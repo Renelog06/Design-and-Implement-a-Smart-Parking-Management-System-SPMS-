{
 "cells": [
  {
   "cell_type": "code",
   "execution_count": null,
   "id": "ccb75fef",
   "metadata": {},
   "outputs": [
    {
     "name": "stdout",
     "output_type": "stream",
     "text": [
      "10 + 20 = 30\n",
      "10 + 20 = 30\n"
     ]
    }
   ],
   "source": [
    "x = 10\n",
    "y = 20\n",
    "z = x + y\n",
    "print (x,\"+\", y, \"=\", z)\n",
    "print (f\"{x} + {y} = {z}\")"
   ]
  }
 ],
 "metadata": {
  "kernelspec": {
   "display_name": "pfp",
   "language": "python",
   "name": "python3"
  },
  "language_info": {
   "codemirror_mode": {
    "name": "ipython",
    "version": 3
   },
   "file_extension": ".py",
   "mimetype": "text/x-python",
   "name": "python",
   "nbconvert_exporter": "python",
   "pygments_lexer": "ipython3",
   "version": "3.10.16"
  }
 },
 "nbformat": 4,
 "nbformat_minor": 5
}
